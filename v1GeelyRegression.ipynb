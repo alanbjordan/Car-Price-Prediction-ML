{
 "cells": [
  {
   "cell_type": "markdown",
   "metadata": {},
   "source": [
    "#### Import Libraries"
   ]
  },
  {
   "cell_type": "code",
   "execution_count": null,
   "metadata": {},
   "outputs": [],
   "source": [
    "import pandas as pd\n",
    "from sklearn.model_selection import train_test_split\n",
    "from sklearn.preprocessing import StandardScaler\n",
    "from sklearn.preprocessing import LabelEncoder\n",
    "from sklearn.linear_model import LinearRegression\n",
    "from sklearn.metrics import mean_absolute_error\n",
    "import numpy as np"
   ]
  },
  {
   "cell_type": "markdown",
   "metadata": {},
   "source": [
    "#### Load Data"
   ]
  },
  {
   "cell_type": "code",
   "execution_count": null,
   "metadata": {},
   "outputs": [],
   "source": [
    "# Load loan data set\n",
    "df = pd.read_csv('CarPrice_Assignment.csv')"
   ]
  },
  {
   "cell_type": "markdown",
   "metadata": {},
   "source": [
    "#### Explore Data "
   ]
  },
  {
   "cell_type": "code",
   "execution_count": null,
   "metadata": {},
   "outputs": [],
   "source": [
    "# view the shape of the data frame\n",
    "print(f\" The data set has {df.shape[0]} rows and {df.shape[1]} columns\")"
   ]
  },
  {
   "cell_type": "code",
   "execution_count": null,
   "metadata": {},
   "outputs": [],
   "source": [
    "# view first few rows of data set\n",
    "df.head()"
   ]
  },
  {
   "cell_type": "code",
   "execution_count": null,
   "metadata": {},
   "outputs": [],
   "source": [
    "# view statistical nature of the data set\n",
    "df.describe()"
   ]
  },
  {
   "cell_type": "code",
   "execution_count": null,
   "metadata": {},
   "outputs": [],
   "source": [
    "# check data types\n",
    "df.info()"
   ]
  },
  {
   "cell_type": "code",
   "execution_count": null,
   "metadata": {},
   "outputs": [],
   "source": [
    "features = list(df.columns)"
   ]
  },
  {
   "cell_type": "code",
   "execution_count": null,
   "metadata": {},
   "outputs": [],
   "source": [
    "for item in features:\n",
    "    # visualize linear relationships in the data set\n",
    "    df.plot(kind = 'scatter', x = item, y = 'price')"
   ]
  },
  {
   "cell_type": "markdown",
   "metadata": {},
   "source": [
    "#### Check target variable distribution"
   ]
  },
  {
   "cell_type": "code",
   "execution_count": null,
   "metadata": {},
   "outputs": [],
   "source": [
    "df['price'].plot(kind = 'hist')"
   ]
  },
  {
   "cell_type": "markdown",
   "metadata": {},
   "source": [
    "#### Redistribute target data"
   ]
  },
  {
   "cell_type": "code",
   "execution_count": null,
   "metadata": {},
   "outputs": [],
   "source": [
    "from scipy.stats import boxcox\n",
    "\n",
    "# Ensure that all data points are > 0\n",
    "df['price'] = df['price'].apply(lambda x: x if x > 0 else 1)\n",
    "df['boxcox_price'], _ = boxcox(df['price'])\n",
    "df['boxcox_price'].plot(kind='hist')\n",
    "\n"
   ]
  },
  {
   "cell_type": "code",
   "execution_count": null,
   "metadata": {},
   "outputs": [],
   "source": [
    "for item in features:\n",
    "    # visualize linear relationships in the data set with sclaed data\n",
    "    df.plot(kind = 'scatter', x = item, y = 'boxcox_price')"
   ]
  },
  {
   "cell_type": "markdown",
   "metadata": {},
   "source": [
    "#### Clean the Data"
   ]
  },
  {
   "cell_type": "code",
   "execution_count": null,
   "metadata": {},
   "outputs": [],
   "source": [
    "# Drop rows where any of the specified features have missing values\n",
    "df = df.dropna(subset=list(df.columns))"
   ]
  },
  {
   "cell_type": "code",
   "execution_count": null,
   "metadata": {},
   "outputs": [],
   "source": [
    "# view the shape of the data set\n",
    "df.shape"
   ]
  },
  {
   "cell_type": "code",
   "execution_count": null,
   "metadata": {},
   "outputs": [],
   "source": [
    "# Encode catageroical features\n",
    "\n",
    "# Initialize label encoder\n",
    "labelencoder = LabelEncoder()\n",
    "\n",
    "# List of categorical columns to label encode\n",
    "cat_columns = ['symboling', 'CarName', 'fueltype', 'aspiration', 'doornumber', 'carbody', 'drivewheel', 'enginelocation','enginetype','cylindernumber','fuelsystem']\n",
    "\n",
    "# Apply label encoder on each of the selected columns\n",
    "for col in cat_columns:\n",
    "    df[col] = labelencoder.fit_transform(df[col])\n"
   ]
  },
  {
   "cell_type": "code",
   "execution_count": null,
   "metadata": {},
   "outputs": [],
   "source": [
    "df.head()"
   ]
  },
  {
   "cell_type": "code",
   "execution_count": null,
   "metadata": {},
   "outputs": [],
   "source": [
    "df.info()"
   ]
  },
  {
   "cell_type": "code",
   "execution_count": null,
   "metadata": {},
   "outputs": [],
   "source": [
    "for item in features:\n",
    "    # visualize linear relationships in the data set\n",
    "    df.plot(kind = 'scatter', x = item, y = 'boxcox_price')"
   ]
  },
  {
   "cell_type": "code",
   "execution_count": null,
   "metadata": {},
   "outputs": [],
   "source": [
    "features=[\n",
    "'carwidth',\n",
    "'curbweight',\n",
    "'enginesize',\n",
    "'horsepower',\n",
    "'citympg',\n",
    "'highwaympg']"
   ]
  },
  {
   "cell_type": "code",
   "execution_count": null,
   "metadata": {},
   "outputs": [],
   "source": [
    "# Initialize the Standard Scaler\n",
    "scaler = StandardScaler()\n",
    "\n",
    "# Fit the scaler on the columns and transform them\n",
    "# This will standardize the feature columns in-place\n",
    "df[features] = scaler.fit_transform(df[features])\n",
    "\n",
    "# Display the first few rows of the DataFrame to verify the scaling\n",
    "# This allows you to check that the scaling was applied correctly\n",
    "df.head()"
   ]
  },
  {
   "cell_type": "code",
   "execution_count": null,
   "metadata": {},
   "outputs": [],
   "source": [
    "df.info()"
   ]
  },
  {
   "cell_type": "markdown",
   "metadata": {},
   "source": [
    "#### Prepare the data"
   ]
  },
  {
   "cell_type": "code",
   "execution_count": null,
   "metadata": {},
   "outputs": [],
   "source": [
    "y = df['price']\n",
    "y"
   ]
  },
  {
   "cell_type": "code",
   "execution_count": null,
   "metadata": {},
   "outputs": [],
   "source": [
    "# Create the feature matrix X\n",
    "X = df[features]\n",
    "X"
   ]
  },
  {
   "cell_type": "code",
   "execution_count": null,
   "metadata": {},
   "outputs": [],
   "source": [
    "X_train, X_test, y_train, y_test = train_test_split(X,y, random_state=1234)"
   ]
  },
  {
   "cell_type": "markdown",
   "metadata": {},
   "source": [
    "#### Train the model"
   ]
  },
  {
   "cell_type": "code",
   "execution_count": null,
   "metadata": {},
   "outputs": [],
   "source": [
    "model = LinearRegression().fit(X_train,y_train)\n",
    "print(\"Model Intercept: \",model.intercept_)\n",
    "print(\"Model Coef: \",model.coef_)"
   ]
  },
  {
   "cell_type": "markdown",
   "metadata": {},
   "source": [
    "#### Evaluate the model"
   ]
  },
  {
   "cell_type": "code",
   "execution_count": null,
   "metadata": {},
   "outputs": [],
   "source": [
    "print(\"The Model Score is: \",model.score(X_test, y_test)\n",
    "y_pred = model.predict(X_test)\n",
    "print(\"The mean absolute error is: \", mean_absolute_error(y_test, y_pred))\n",
    "print(f\"the min price is: {min(y)}\")\n",
    "print(f\"the max price is: {max(y)}\")"
   ]
  },
  {
   "cell_type": "markdown",
   "metadata": {},
   "source": [
    "#### Make a prediction"
   ]
  },
  {
   "cell_type": "code",
   "execution_count": null,
   "metadata": {},
   "outputs": [],
   "source": [
    "error = []\n",
    "rangeNum = 200\n",
    "for row in range(1, rangeNum):\n",
    "    # Assume single_row_df is your DataFrame containing the single row you want to predict\n",
    "    single_row_df = df.loc[[row], features]  # Note the double brackets to keep it as a DataFrame\n",
    "\n",
    "    y_pred_single = model.predict(single_row_df)\n",
    "    predicted_price = y_pred_single[0]\n",
    "    actual_price = df.loc[row, 'price']\n",
    "\n",
    "    #print(\"Predicted price:\", round(predicted_price, 2))\n",
    "    #print(f\"Actual price: {actual_price}\")\n",
    "\n",
    "    # Calculate the absolute percentage error\n",
    "    abs_percent_error = abs((predicted_price - actual_price) / actual_price) * 100\n",
    "    #print(f\"The prediction is within {round(abs_percent_error, 2)}% of the actual price\")\n",
    "    error.append(abs_percent_error)\n",
    "\n",
    "# Calculate the mean error of all errors during prediction\n",
    "mean_error = np.mean(error)\n",
    "print(f\"The mean error percentage is {round(mean_error, 2)}%\")"
   ]
  },
  {
   "cell_type": "code",
   "execution_count": 1,
   "metadata": {},
   "outputs": [
    {
     "data": {
      "application/javascript": "IPython.notebook.clear_all_output()",
      "text/plain": [
       "<IPython.core.display.Javascript object>"
      ]
     },
     "metadata": {},
     "output_type": "display_data"
    }
   ],
   "source": [
    "from IPython.display import display, Javascript\n",
    "display(Javascript('IPython.notebook.clear_all_output()'))\n"
   ]
  }
 ],
 "metadata": {
  "kernelspec": {
   "display_name": "base",
   "language": "python",
   "name": "python3"
  },
  "language_info": {
   "codemirror_mode": {
    "name": "ipython",
    "version": 3
   },
   "file_extension": ".py",
   "mimetype": "text/x-python",
   "name": "python",
   "nbconvert_exporter": "python",
   "pygments_lexer": "ipython3",
   "version": "3.8.8"
  },
  "orig_nbformat": 4
 },
 "nbformat": 4,
 "nbformat_minor": 2
}
